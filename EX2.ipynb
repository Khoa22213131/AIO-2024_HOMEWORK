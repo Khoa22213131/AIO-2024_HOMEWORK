{
  "nbformat": 4,
  "nbformat_minor": 0,
  "metadata": {
    "colab": {
      "provenance": [],
      "authorship_tag": "ABX9TyMkTcJuVnCdLlaQpGoGRGtI",
      "include_colab_link": true
    },
    "kernelspec": {
      "name": "python3",
      "display_name": "Python 3"
    },
    "language_info": {
      "name": "python"
    }
  },
  "cells": [
    {
      "cell_type": "markdown",
      "metadata": {
        "id": "view-in-github",
        "colab_type": "text"
      },
      "source": [
        "<a href=\"https://colab.research.google.com/github/Khoa22213131/AIO-2024_HOMEWORK/blob/feature%2Fmodule_02%2Fweek_01%2Fexercise/EX2.ipynb\" target=\"_parent\"><img src=\"https://colab.research.google.com/assets/colab-badge.svg\" alt=\"Open In Colab\"/></a>"
      ]
    },
    {
      "cell_type": "markdown",
      "source": [
        "# EX2: IMAGE PROCESSING"
      ],
      "metadata": {
        "id": "sFiUs_bZ2dBC"
      }
    },
    {
      "cell_type": "markdown",
      "source": [
        "## EX12"
      ],
      "metadata": {
        "id": "OJYhZejV2o6h"
      }
    },
    {
      "cell_type": "code",
      "source": [
        "!gdown 1i9dqan21DjQoG5Q_VEvm0LrVwAlXD0vB"
      ],
      "metadata": {
        "colab": {
          "base_uri": "https://localhost:8080/"
        },
        "id": "YiwLa-cF2oK3",
        "outputId": "a06134c5-9a9a-41d8-e40d-fb91c6591bc2"
      },
      "execution_count": 1,
      "outputs": [
        {
          "output_type": "stream",
          "name": "stdout",
          "text": [
            "Downloading...\n",
            "From: https://drive.google.com/uc?id=1i9dqan21DjQoG5Q_VEvm0LrVwAlXD0vB\n",
            "To: /content/dog.jpeg\n",
            "\r  0% 0.00/33.7k [00:00<?, ?B/s]\r100% 33.7k/33.7k [00:00<00:00, 59.1MB/s]\n"
          ]
        }
      ]
    },
    {
      "cell_type": "markdown",
      "source": [
        "use lightness method"
      ],
      "metadata": {
        "id": "GFp2b-rq3x4n"
      }
    },
    {
      "cell_type": "code",
      "source": [
        "import numpy as np\n",
        "\n",
        "def lightness(vec):\n",
        "  return (np.min(vec) + np.max(vec)) / 2"
      ],
      "metadata": {
        "id": "_xzJpb_86QRs"
      },
      "execution_count": 2,
      "outputs": []
    },
    {
      "cell_type": "code",
      "source": [
        "import matplotlib.image as mpimg\n",
        "\n",
        "img = mpimg.imread('/content/dog.jpeg')\n",
        "gray_img_01 = np.apply_along_axis(lightness, 2, img)\n",
        "gray_img_01 [0 , 0]"
      ],
      "metadata": {
        "colab": {
          "base_uri": "https://localhost:8080/"
        },
        "id": "UmnJSPvS2b7T",
        "outputId": "1be61263-cdd0-4228-d477-10b85140dbce"
      },
      "execution_count": 3,
      "outputs": [
        {
          "output_type": "stream",
          "name": "stderr",
          "text": [
            "<ipython-input-2-3ec8386f7e00>:4: RuntimeWarning: overflow encountered in scalar add\n",
            "  return (np.min(vec) + np.max(vec)) / 2\n"
          ]
        },
        {
          "output_type": "execute_result",
          "data": {
            "text/plain": [
              "102.5"
            ]
          },
          "metadata": {},
          "execution_count": 3
        }
      ]
    },
    {
      "cell_type": "markdown",
      "source": [
        "## EX13"
      ],
      "metadata": {
        "id": "1ztFMHJc-g3M"
      }
    },
    {
      "cell_type": "markdown",
      "source": [
        "use average method"
      ],
      "metadata": {
        "id": "hm68mJaS-1Kl"
      }
    },
    {
      "cell_type": "code",
      "source": [
        "def average(vec):\n",
        "  return np.mean(vec)"
      ],
      "metadata": {
        "id": "BTiCfii1-0w6"
      },
      "execution_count": 5,
      "outputs": []
    },
    {
      "cell_type": "code",
      "source": [
        "gray_img_02 = np.apply_along_axis(avveerage, 2, img)\n",
        "gray_img_02[0 , 0]"
      ],
      "metadata": {
        "colab": {
          "base_uri": "https://localhost:8080/"
        },
        "id": "66alnszL--W6",
        "outputId": "4e8d9475-cd5e-47b6-b2c7-7f87d0ad19d6"
      },
      "execution_count": 6,
      "outputs": [
        {
          "output_type": "execute_result",
          "data": {
            "text/plain": [
              "107.66666666666667"
            ]
          },
          "metadata": {},
          "execution_count": 6
        }
      ]
    },
    {
      "cell_type": "markdown",
      "source": [
        "## EX14"
      ],
      "metadata": {
        "id": "6mB_JBp__Iz5"
      }
    },
    {
      "cell_type": "markdown",
      "source": [
        "use luminousity method"
      ],
      "metadata": {
        "id": "CrlunpHZ_Kem"
      }
    },
    {
      "cell_type": "code",
      "source": [
        "def luminousity(vec):\n",
        "  return 0.21*vec[0] + 0.72*vec[1] + 0.07*vec[2]"
      ],
      "metadata": {
        "id": "cwZ1JW6U_MY0"
      },
      "execution_count": 8,
      "outputs": []
    },
    {
      "cell_type": "code",
      "source": [
        "gray_img_03 = np.apply_along_axis(luminousity, 2, img)\n",
        "gray_img_03[0 , 0]"
      ],
      "metadata": {
        "colab": {
          "base_uri": "https://localhost:8080/"
        },
        "id": "nLkxRmdc_bk4",
        "outputId": "7eaf023f-198b-4a33-eab5-1543dc6616e5"
      },
      "execution_count": 9,
      "outputs": [
        {
          "output_type": "execute_result",
          "data": {
            "text/plain": [
              "126.22999999999999"
            ]
          },
          "metadata": {},
          "execution_count": 9
        }
      ]
    }
  ]
}