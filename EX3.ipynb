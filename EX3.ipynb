{
  "nbformat": 4,
  "nbformat_minor": 0,
  "metadata": {
    "colab": {
      "provenance": [],
      "authorship_tag": "ABX9TyMORFz4dN/ALDuXEDjN5B2y",
      "include_colab_link": true
    },
    "kernelspec": {
      "name": "python3",
      "display_name": "Python 3"
    },
    "language_info": {
      "name": "python"
    }
  },
  "cells": [
    {
      "cell_type": "markdown",
      "metadata": {
        "id": "view-in-github",
        "colab_type": "text"
      },
      "source": [
        "<a href=\"https://colab.research.google.com/github/Khoa22213131/AIO-2024_HOMEWORK/blob/feature%2Fmodule_02%2Fweek_01%2Fexercise/EX3.ipynb\" target=\"_parent\"><img src=\"https://colab.research.google.com/assets/colab-badge.svg\" alt=\"Open In Colab\"/></a>"
      ]
    },
    {
      "cell_type": "markdown",
      "source": [
        "# EX3: analyse table data\n",
        "\n"
      ],
      "metadata": {
        "id": "ts2e4d51A3Ba"
      }
    },
    {
      "cell_type": "markdown",
      "source": [
        "download and read the dataset"
      ],
      "metadata": {
        "id": "efZIpyMTB19p"
      }
    },
    {
      "cell_type": "code",
      "execution_count": 1,
      "metadata": {
        "colab": {
          "base_uri": "https://localhost:8080/"
        },
        "id": "4JwnjI48AmLJ",
        "outputId": "afd39f4e-bfe5-41d7-899c-8ef75d9b450e"
      },
      "outputs": [
        {
          "output_type": "stream",
          "name": "stdout",
          "text": [
            "Downloading...\n",
            "From: https://drive.google.com/uc?id=1iA0WmVfW88HyJvTBSQDI5vesf-pgKabq\n",
            "To: /content/advertising.csv\n",
            "\r  0% 0.00/4.06k [00:00<?, ?B/s]\r100% 4.06k/4.06k [00:00<00:00, 12.1MB/s]\n"
          ]
        }
      ],
      "source": [
        "!gdown 1iA0WmVfW88HyJvTBSQDI5vesf-pgKabq"
      ]
    },
    {
      "cell_type": "code",
      "source": [
        "import pandas as pd\n",
        "import numpy as np\n",
        "\n",
        "df = pd.read_csv('/content/advertising.csv')\n",
        "data = df.to_numpy()"
      ],
      "metadata": {
        "id": "9VK-brVRCmzA"
      },
      "execution_count": 6,
      "outputs": []
    },
    {
      "cell_type": "markdown",
      "source": [
        "## EX15"
      ],
      "metadata": {
        "id": "_-3TyzxdC8Nn"
      }
    },
    {
      "cell_type": "code",
      "source": [
        "sales = data[:, 3]\n",
        "max_sale = np.max(sales)\n",
        "max_idx = np.argmax(sales)\n",
        "\n",
        "print(max_sale, max_idx)"
      ],
      "metadata": {
        "colab": {
          "base_uri": "https://localhost:8080/"
        },
        "id": "eHq-qndVC-cL",
        "outputId": "e8c1531d-fc69-42b5-e56f-deab06b44957"
      },
      "execution_count": 8,
      "outputs": [
        {
          "output_type": "stream",
          "name": "stdout",
          "text": [
            "27.0 175\n"
          ]
        }
      ]
    },
    {
      "cell_type": "markdown",
      "source": [
        "## EX16"
      ],
      "metadata": {
        "id": "eaM0S0PyFYyN"
      }
    },
    {
      "cell_type": "code",
      "source": [
        "mean_tv = np.mean(data[:, 0])\n",
        "\n",
        "print(mean_tv)"
      ],
      "metadata": {
        "colab": {
          "base_uri": "https://localhost:8080/"
        },
        "id": "JqJG6dE_FcBd",
        "outputId": "ade28a8b-abb8-47c1-a567-ba51adcf20d8"
      },
      "execution_count": 9,
      "outputs": [
        {
          "output_type": "stream",
          "name": "stdout",
          "text": [
            "147.0425\n"
          ]
        }
      ]
    },
    {
      "cell_type": "markdown",
      "source": [
        "## EX17"
      ],
      "metadata": {
        "id": "ru-pjteqFkz8"
      }
    },
    {
      "cell_type": "code",
      "source": [
        "filtered = data[data[:, 3] >= 20]\n",
        "\n",
        "print(len(filtered))"
      ],
      "metadata": {
        "colab": {
          "base_uri": "https://localhost:8080/"
        },
        "id": "3jHwhYb6Fm4Q",
        "outputId": "10eadee1-2770-4872-a78e-d0c9dd6c6c36"
      },
      "execution_count": 10,
      "outputs": [
        {
          "output_type": "stream",
          "name": "stdout",
          "text": [
            "40\n"
          ]
        }
      ]
    },
    {
      "cell_type": "markdown",
      "source": [
        "## EX18"
      ],
      "metadata": {
        "id": "xaa0EqgBF8fl"
      }
    },
    {
      "cell_type": "code",
      "source": [
        "filtered = data[data[:, 3] >= 15]\n",
        "\n",
        "print(np.mean(filtered[:, 1]))"
      ],
      "metadata": {
        "colab": {
          "base_uri": "https://localhost:8080/"
        },
        "id": "VW1JQIIpF97w",
        "outputId": "88bd2ac5-6148-4910-da7c-17574a9cc920"
      },
      "execution_count": 11,
      "outputs": [
        {
          "output_type": "stream",
          "name": "stdout",
          "text": [
            "26.22293577981651\n"
          ]
        }
      ]
    },
    {
      "cell_type": "markdown",
      "source": [
        "## EX19"
      ],
      "metadata": {
        "id": "YXb5rkEzGVSt"
      }
    },
    {
      "cell_type": "code",
      "source": [
        "mean_val = np.mean(data[:, 2])\n",
        "filtered = data[data[:, 2] > mean_val]\n",
        "\n",
        "print(np.sum(filtered[:, 3]))"
      ],
      "metadata": {
        "colab": {
          "base_uri": "https://localhost:8080/"
        },
        "id": "Ceh2MIiOGXkE",
        "outputId": "323c5515-1e9d-4360-b2a7-5a7ab94470a1"
      },
      "execution_count": 12,
      "outputs": [
        {
          "output_type": "stream",
          "name": "stdout",
          "text": [
            "1405.1\n"
          ]
        }
      ]
    },
    {
      "cell_type": "markdown",
      "source": [
        "## EX20"
      ],
      "metadata": {
        "id": "hpZBaPHrGtY_"
      }
    },
    {
      "cell_type": "code",
      "source": [
        "A = np.mean(data[:, 3])\n",
        "\n",
        "scores = np.full(len(data), 'Bad')\n",
        "\n",
        "scores = np.where(data[:, 3] > A, 'Good', np.where(data[:, 3] == A, 'Average', scores))\n",
        "\n",
        "scores[7:10]"
      ],
      "metadata": {
        "colab": {
          "base_uri": "https://localhost:8080/"
        },
        "id": "6C4AliTcGz1m",
        "outputId": "b13e9d2b-fe3f-4e53-cfc4-5e2c1317d22d"
      },
      "execution_count": 14,
      "outputs": [
        {
          "output_type": "execute_result",
          "data": {
            "text/plain": [
              "array(['Bad', 'Bad', 'Good'], dtype='<U7')"
            ]
          },
          "metadata": {},
          "execution_count": 14
        }
      ]
    },
    {
      "cell_type": "markdown",
      "source": [
        "# EX21"
      ],
      "metadata": {
        "id": "3LiYVPKDJFHO"
      }
    },
    {
      "cell_type": "code",
      "source": [
        "min = A\n",
        "new = -1\n",
        "\n",
        "for i, sale in enumerate(data[:, 3]):\n",
        "  if sale - A < min:\n",
        "    new = sale\n",
        "    idx = i\n",
        "\n",
        "A = new\n",
        "\n",
        "scores = np.full(len(data), 'Bad')\n",
        "\n",
        "scores = np.where(data[:, 3] > A, 'Good', np.where(data[:, 3] == A, 'Average', scores))\n",
        "\n",
        "scores[7:10]"
      ],
      "metadata": {
        "colab": {
          "base_uri": "https://localhost:8080/"
        },
        "id": "2U6m-oaYJEoO",
        "outputId": "0f8cc2c7-7677-445e-e447-1b57456f0b85"
      },
      "execution_count": 15,
      "outputs": [
        {
          "output_type": "execute_result",
          "data": {
            "text/plain": [
              "array(['Bad', 'Bad', 'Bad'], dtype='<U7')"
            ]
          },
          "metadata": {},
          "execution_count": 15
        }
      ]
    }
  ]
}